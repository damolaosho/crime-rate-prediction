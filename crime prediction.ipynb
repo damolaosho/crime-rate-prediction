{
 "cells": [
  {
   "cell_type": "code",
   "execution_count": 21,
   "metadata": {},
   "outputs": [],
   "source": [
    "import numpy as np\n",
    "import seaborn as sns\n",
    "import pandas as pd\n",
    "import matplotlib.pyplot as plt\n",
    "\n",
    "%matplotlib inline\n",
    "\n",
    "#importing the models from scikitlearn\n",
    "from sklearn.ensemble import RandomForestClassifier\n",
    "from sklearn.neighbors import KNeighborsClassifier\n",
    "\n",
    "#model evaluations\n",
    "from sklearn.model_selection import train_test_split, cross_val_score\n",
    "from sklearn.model_selection import GridSearchCV\n",
    "from sklearn.metrics import confusion_matrix, classification_report\n",
    "from sklearn.metrics import precision_score, recall_score, f1_score\n",
    "from sklearn.metrics import plot_roc_curve\n"
   ]
  },
  {
   "cell_type": "code",
   "execution_count": 3,
   "metadata": {},
   "outputs": [],
   "source": [
    "df =pd.read_csv(\"crime.csv\")"
   ]
  },
  {
   "cell_type": "code",
   "execution_count": 4,
   "metadata": {},
   "outputs": [
    {
     "data": {
      "text/html": [
       "<div>\n",
       "<style scoped>\n",
       "    .dataframe tbody tr th:only-of-type {\n",
       "        vertical-align: middle;\n",
       "    }\n",
       "\n",
       "    .dataframe tbody tr th {\n",
       "        vertical-align: top;\n",
       "    }\n",
       "\n",
       "    .dataframe thead th {\n",
       "        text-align: right;\n",
       "    }\n",
       "</style>\n",
       "<table border=\"1\" class=\"dataframe\">\n",
       "  <thead>\n",
       "    <tr style=\"text-align: right;\">\n",
       "      <th></th>\n",
       "      <th>TYPE</th>\n",
       "      <th>YEAR</th>\n",
       "      <th>MONTH</th>\n",
       "      <th>DAY</th>\n",
       "      <th>HOUR</th>\n",
       "      <th>MINUTE</th>\n",
       "      <th>HUNDRED_BLOCK</th>\n",
       "      <th>NEIGHBOURHOOD</th>\n",
       "      <th>X</th>\n",
       "      <th>Y</th>\n",
       "      <th>Latitude</th>\n",
       "      <th>Longitude</th>\n",
       "    </tr>\n",
       "  </thead>\n",
       "  <tbody>\n",
       "    <tr>\n",
       "      <th>0</th>\n",
       "      <td>Other Theft</td>\n",
       "      <td>2003</td>\n",
       "      <td>5</td>\n",
       "      <td>12</td>\n",
       "      <td>16.0</td>\n",
       "      <td>15.0</td>\n",
       "      <td>9XX TERMINAL AVE</td>\n",
       "      <td>Strathcona</td>\n",
       "      <td>493906.5</td>\n",
       "      <td>5457452.47</td>\n",
       "      <td>49.269802</td>\n",
       "      <td>-123.083763</td>\n",
       "    </tr>\n",
       "    <tr>\n",
       "      <th>1</th>\n",
       "      <td>Other Theft</td>\n",
       "      <td>2003</td>\n",
       "      <td>5</td>\n",
       "      <td>7</td>\n",
       "      <td>15.0</td>\n",
       "      <td>20.0</td>\n",
       "      <td>9XX TERMINAL AVE</td>\n",
       "      <td>Strathcona</td>\n",
       "      <td>493906.5</td>\n",
       "      <td>5457452.47</td>\n",
       "      <td>49.269802</td>\n",
       "      <td>-123.083763</td>\n",
       "    </tr>\n",
       "    <tr>\n",
       "      <th>2</th>\n",
       "      <td>Other Theft</td>\n",
       "      <td>2003</td>\n",
       "      <td>4</td>\n",
       "      <td>23</td>\n",
       "      <td>16.0</td>\n",
       "      <td>40.0</td>\n",
       "      <td>9XX TERMINAL AVE</td>\n",
       "      <td>Strathcona</td>\n",
       "      <td>493906.5</td>\n",
       "      <td>5457452.47</td>\n",
       "      <td>49.269802</td>\n",
       "      <td>-123.083763</td>\n",
       "    </tr>\n",
       "    <tr>\n",
       "      <th>3</th>\n",
       "      <td>Other Theft</td>\n",
       "      <td>2003</td>\n",
       "      <td>4</td>\n",
       "      <td>20</td>\n",
       "      <td>11.0</td>\n",
       "      <td>15.0</td>\n",
       "      <td>9XX TERMINAL AVE</td>\n",
       "      <td>Strathcona</td>\n",
       "      <td>493906.5</td>\n",
       "      <td>5457452.47</td>\n",
       "      <td>49.269802</td>\n",
       "      <td>-123.083763</td>\n",
       "    </tr>\n",
       "    <tr>\n",
       "      <th>4</th>\n",
       "      <td>Other Theft</td>\n",
       "      <td>2003</td>\n",
       "      <td>4</td>\n",
       "      <td>12</td>\n",
       "      <td>17.0</td>\n",
       "      <td>45.0</td>\n",
       "      <td>9XX TERMINAL AVE</td>\n",
       "      <td>Strathcona</td>\n",
       "      <td>493906.5</td>\n",
       "      <td>5457452.47</td>\n",
       "      <td>49.269802</td>\n",
       "      <td>-123.083763</td>\n",
       "    </tr>\n",
       "  </tbody>\n",
       "</table>\n",
       "</div>"
      ],
      "text/plain": [
       "          TYPE  YEAR  MONTH  DAY  HOUR  MINUTE     HUNDRED_BLOCK  \\\n",
       "0  Other Theft  2003      5   12  16.0    15.0  9XX TERMINAL AVE   \n",
       "1  Other Theft  2003      5    7  15.0    20.0  9XX TERMINAL AVE   \n",
       "2  Other Theft  2003      4   23  16.0    40.0  9XX TERMINAL AVE   \n",
       "3  Other Theft  2003      4   20  11.0    15.0  9XX TERMINAL AVE   \n",
       "4  Other Theft  2003      4   12  17.0    45.0  9XX TERMINAL AVE   \n",
       "\n",
       "  NEIGHBOURHOOD         X           Y   Latitude   Longitude  \n",
       "0    Strathcona  493906.5  5457452.47  49.269802 -123.083763  \n",
       "1    Strathcona  493906.5  5457452.47  49.269802 -123.083763  \n",
       "2    Strathcona  493906.5  5457452.47  49.269802 -123.083763  \n",
       "3    Strathcona  493906.5  5457452.47  49.269802 -123.083763  \n",
       "4    Strathcona  493906.5  5457452.47  49.269802 -123.083763  "
      ]
     },
     "execution_count": 4,
     "metadata": {},
     "output_type": "execute_result"
    }
   ],
   "source": [
    "df.head()"
   ]
  },
  {
   "cell_type": "code",
   "execution_count": 5,
   "metadata": {},
   "outputs": [
    {
     "data": {
      "text/html": [
       "<div>\n",
       "<style scoped>\n",
       "    .dataframe tbody tr th:only-of-type {\n",
       "        vertical-align: middle;\n",
       "    }\n",
       "\n",
       "    .dataframe tbody tr th {\n",
       "        vertical-align: top;\n",
       "    }\n",
       "\n",
       "    .dataframe thead th {\n",
       "        text-align: right;\n",
       "    }\n",
       "</style>\n",
       "<table border=\"1\" class=\"dataframe\">\n",
       "  <thead>\n",
       "    <tr style=\"text-align: right;\">\n",
       "      <th></th>\n",
       "      <th>TYPE</th>\n",
       "      <th>YEAR</th>\n",
       "      <th>MONTH</th>\n",
       "      <th>DAY</th>\n",
       "      <th>HOUR</th>\n",
       "      <th>MINUTE</th>\n",
       "      <th>HUNDRED_BLOCK</th>\n",
       "      <th>NEIGHBOURHOOD</th>\n",
       "      <th>X</th>\n",
       "      <th>Y</th>\n",
       "      <th>Latitude</th>\n",
       "      <th>Longitude</th>\n",
       "    </tr>\n",
       "  </thead>\n",
       "  <tbody>\n",
       "    <tr>\n",
       "      <th>530647</th>\n",
       "      <td>Break and Enter Residential/Other</td>\n",
       "      <td>2017</td>\n",
       "      <td>3</td>\n",
       "      <td>3</td>\n",
       "      <td>9.0</td>\n",
       "      <td>16.0</td>\n",
       "      <td>31XX ADANAC ST</td>\n",
       "      <td>Hastings-Sunrise</td>\n",
       "      <td>497265.49</td>\n",
       "      <td>5458296.71</td>\n",
       "      <td>49.277420</td>\n",
       "      <td>-123.037595</td>\n",
       "    </tr>\n",
       "    <tr>\n",
       "      <th>530648</th>\n",
       "      <td>Mischief</td>\n",
       "      <td>2017</td>\n",
       "      <td>5</td>\n",
       "      <td>29</td>\n",
       "      <td>22.0</td>\n",
       "      <td>30.0</td>\n",
       "      <td>14XX E 7TH AVE</td>\n",
       "      <td>Grandview-Woodland</td>\n",
       "      <td>494533.97</td>\n",
       "      <td>5456824.97</td>\n",
       "      <td>49.264163</td>\n",
       "      <td>-123.075129</td>\n",
       "    </tr>\n",
       "    <tr>\n",
       "      <th>530649</th>\n",
       "      <td>Offence Against a Person</td>\n",
       "      <td>2017</td>\n",
       "      <td>4</td>\n",
       "      <td>13</td>\n",
       "      <td>NaN</td>\n",
       "      <td>NaN</td>\n",
       "      <td>OFFSET TO PROTECT PRIVACY</td>\n",
       "      <td>NaN</td>\n",
       "      <td>0.00</td>\n",
       "      <td>0.00</td>\n",
       "      <td>0.000000</td>\n",
       "      <td>0.000000</td>\n",
       "    </tr>\n",
       "    <tr>\n",
       "      <th>530650</th>\n",
       "      <td>Theft from Vehicle</td>\n",
       "      <td>2017</td>\n",
       "      <td>6</td>\n",
       "      <td>5</td>\n",
       "      <td>17.0</td>\n",
       "      <td>0.0</td>\n",
       "      <td>8XX HAMILTON ST</td>\n",
       "      <td>Central Business District</td>\n",
       "      <td>491487.85</td>\n",
       "      <td>5458385.78</td>\n",
       "      <td>49.278168</td>\n",
       "      <td>-123.117031</td>\n",
       "    </tr>\n",
       "    <tr>\n",
       "      <th>530651</th>\n",
       "      <td>Vehicle Collision or Pedestrian Struck (with I...</td>\n",
       "      <td>2017</td>\n",
       "      <td>6</td>\n",
       "      <td>6</td>\n",
       "      <td>17.0</td>\n",
       "      <td>38.0</td>\n",
       "      <td>13XX BLOCK PARK DR</td>\n",
       "      <td>Marpole</td>\n",
       "      <td>490204.00</td>\n",
       "      <td>5451444.00</td>\n",
       "      <td>49.215706</td>\n",
       "      <td>-123.134512</td>\n",
       "    </tr>\n",
       "  </tbody>\n",
       "</table>\n",
       "</div>"
      ],
      "text/plain": [
       "                                                     TYPE  YEAR  MONTH  DAY  \\\n",
       "530647                  Break and Enter Residential/Other  2017      3    3   \n",
       "530648                                           Mischief  2017      5   29   \n",
       "530649                           Offence Against a Person  2017      4   13   \n",
       "530650                                 Theft from Vehicle  2017      6    5   \n",
       "530651  Vehicle Collision or Pedestrian Struck (with I...  2017      6    6   \n",
       "\n",
       "        HOUR  MINUTE              HUNDRED_BLOCK              NEIGHBOURHOOD  \\\n",
       "530647   9.0    16.0             31XX ADANAC ST           Hastings-Sunrise   \n",
       "530648  22.0    30.0             14XX E 7TH AVE         Grandview-Woodland   \n",
       "530649   NaN     NaN  OFFSET TO PROTECT PRIVACY                        NaN   \n",
       "530650  17.0     0.0            8XX HAMILTON ST  Central Business District   \n",
       "530651  17.0    38.0         13XX BLOCK PARK DR                    Marpole   \n",
       "\n",
       "                X           Y   Latitude   Longitude  \n",
       "530647  497265.49  5458296.71  49.277420 -123.037595  \n",
       "530648  494533.97  5456824.97  49.264163 -123.075129  \n",
       "530649       0.00        0.00   0.000000    0.000000  \n",
       "530650  491487.85  5458385.78  49.278168 -123.117031  \n",
       "530651  490204.00  5451444.00  49.215706 -123.134512  "
      ]
     },
     "execution_count": 5,
     "metadata": {},
     "output_type": "execute_result"
    }
   ],
   "source": [
    "df.tail()"
   ]
  },
  {
   "cell_type": "code",
   "execution_count": 6,
   "metadata": {},
   "outputs": [
    {
     "data": {
      "text/plain": [
       "(530652, 12)"
      ]
     },
     "execution_count": 6,
     "metadata": {},
     "output_type": "execute_result"
    }
   ],
   "source": [
    "df.shape"
   ]
  },
  {
   "cell_type": "code",
   "execution_count": 7,
   "metadata": {},
   "outputs": [
    {
     "data": {
      "text/plain": [
       "TYPE                 0\n",
       "YEAR                 0\n",
       "MONTH                0\n",
       "DAY                  0\n",
       "HOUR             54362\n",
       "MINUTE           54362\n",
       "HUNDRED_BLOCK       13\n",
       "NEIGHBOURHOOD    56624\n",
       "X                    0\n",
       "Y                    0\n",
       "Latitude             0\n",
       "Longitude            0\n",
       "dtype: int64"
      ]
     },
     "execution_count": 7,
     "metadata": {},
     "output_type": "execute_result"
    }
   ],
   "source": [
    "df.isnull().sum()"
   ]
  },
  {
   "cell_type": "code",
   "execution_count": 8,
   "metadata": {},
   "outputs": [
    {
     "data": {
      "text/html": [
       "<div>\n",
       "<style scoped>\n",
       "    .dataframe tbody tr th:only-of-type {\n",
       "        vertical-align: middle;\n",
       "    }\n",
       "\n",
       "    .dataframe tbody tr th {\n",
       "        vertical-align: top;\n",
       "    }\n",
       "\n",
       "    .dataframe thead th {\n",
       "        text-align: right;\n",
       "    }\n",
       "</style>\n",
       "<table border=\"1\" class=\"dataframe\">\n",
       "  <thead>\n",
       "    <tr style=\"text-align: right;\">\n",
       "      <th></th>\n",
       "      <th>YEAR</th>\n",
       "      <th>MONTH</th>\n",
       "      <th>DAY</th>\n",
       "      <th>HOUR</th>\n",
       "      <th>MINUTE</th>\n",
       "      <th>X</th>\n",
       "      <th>Y</th>\n",
       "      <th>Latitude</th>\n",
       "      <th>Longitude</th>\n",
       "    </tr>\n",
       "  </thead>\n",
       "  <tbody>\n",
       "    <tr>\n",
       "      <th>count</th>\n",
       "      <td>530652.000000</td>\n",
       "      <td>530652.000000</td>\n",
       "      <td>530652.000000</td>\n",
       "      <td>476290.000000</td>\n",
       "      <td>476290.000000</td>\n",
       "      <td>530652.000000</td>\n",
       "      <td>5.306520e+05</td>\n",
       "      <td>530652.000000</td>\n",
       "      <td>530652.000000</td>\n",
       "    </tr>\n",
       "    <tr>\n",
       "      <th>mean</th>\n",
       "      <td>2009.197956</td>\n",
       "      <td>6.450597</td>\n",
       "      <td>15.408590</td>\n",
       "      <td>13.711254</td>\n",
       "      <td>16.940039</td>\n",
       "      <td>441802.149909</td>\n",
       "      <td>4.897663e+06</td>\n",
       "      <td>44.216029</td>\n",
       "      <td>-110.495297</td>\n",
       "    </tr>\n",
       "    <tr>\n",
       "      <th>std</th>\n",
       "      <td>4.386272</td>\n",
       "      <td>3.399212</td>\n",
       "      <td>8.750642</td>\n",
       "      <td>6.767744</td>\n",
       "      <td>18.418950</td>\n",
       "      <td>149281.547656</td>\n",
       "      <td>1.654633e+06</td>\n",
       "      <td>14.938004</td>\n",
       "      <td>37.329862</td>\n",
       "    </tr>\n",
       "    <tr>\n",
       "      <th>min</th>\n",
       "      <td>2003.000000</td>\n",
       "      <td>1.000000</td>\n",
       "      <td>1.000000</td>\n",
       "      <td>0.000000</td>\n",
       "      <td>0.000000</td>\n",
       "      <td>0.000000</td>\n",
       "      <td>0.000000e+00</td>\n",
       "      <td>0.000000</td>\n",
       "      <td>-124.549757</td>\n",
       "    </tr>\n",
       "    <tr>\n",
       "      <th>25%</th>\n",
       "      <td>2005.000000</td>\n",
       "      <td>4.000000</td>\n",
       "      <td>8.000000</td>\n",
       "      <td>9.000000</td>\n",
       "      <td>0.000000</td>\n",
       "      <td>489944.452500</td>\n",
       "      <td>5.453651e+06</td>\n",
       "      <td>49.235573</td>\n",
       "      <td>-123.127194</td>\n",
       "    </tr>\n",
       "    <tr>\n",
       "      <th>50%</th>\n",
       "      <td>2009.000000</td>\n",
       "      <td>6.000000</td>\n",
       "      <td>15.000000</td>\n",
       "      <td>15.000000</td>\n",
       "      <td>10.000000</td>\n",
       "      <td>491499.240000</td>\n",
       "      <td>5.456840e+06</td>\n",
       "      <td>49.264251</td>\n",
       "      <td>-123.107128</td>\n",
       "    </tr>\n",
       "    <tr>\n",
       "      <th>75%</th>\n",
       "      <td>2013.000000</td>\n",
       "      <td>9.000000</td>\n",
       "      <td>23.000000</td>\n",
       "      <td>19.000000</td>\n",
       "      <td>30.000000</td>\n",
       "      <td>493547.210000</td>\n",
       "      <td>5.458638e+06</td>\n",
       "      <td>49.280441</td>\n",
       "      <td>-123.065932</td>\n",
       "    </tr>\n",
       "    <tr>\n",
       "      <th>max</th>\n",
       "      <td>2017.000000</td>\n",
       "      <td>12.000000</td>\n",
       "      <td>31.000000</td>\n",
       "      <td>23.000000</td>\n",
       "      <td>59.000000</td>\n",
       "      <td>511303.000000</td>\n",
       "      <td>5.512579e+06</td>\n",
       "      <td>49.755314</td>\n",
       "      <td>0.000000</td>\n",
       "    </tr>\n",
       "  </tbody>\n",
       "</table>\n",
       "</div>"
      ],
      "text/plain": [
       "                YEAR          MONTH            DAY           HOUR  \\\n",
       "count  530652.000000  530652.000000  530652.000000  476290.000000   \n",
       "mean     2009.197956       6.450597      15.408590      13.711254   \n",
       "std         4.386272       3.399212       8.750642       6.767744   \n",
       "min      2003.000000       1.000000       1.000000       0.000000   \n",
       "25%      2005.000000       4.000000       8.000000       9.000000   \n",
       "50%      2009.000000       6.000000      15.000000      15.000000   \n",
       "75%      2013.000000       9.000000      23.000000      19.000000   \n",
       "max      2017.000000      12.000000      31.000000      23.000000   \n",
       "\n",
       "              MINUTE              X             Y       Latitude  \\\n",
       "count  476290.000000  530652.000000  5.306520e+05  530652.000000   \n",
       "mean       16.940039  441802.149909  4.897663e+06      44.216029   \n",
       "std        18.418950  149281.547656  1.654633e+06      14.938004   \n",
       "min         0.000000       0.000000  0.000000e+00       0.000000   \n",
       "25%         0.000000  489944.452500  5.453651e+06      49.235573   \n",
       "50%        10.000000  491499.240000  5.456840e+06      49.264251   \n",
       "75%        30.000000  493547.210000  5.458638e+06      49.280441   \n",
       "max        59.000000  511303.000000  5.512579e+06      49.755314   \n",
       "\n",
       "           Longitude  \n",
       "count  530652.000000  \n",
       "mean     -110.495297  \n",
       "std        37.329862  \n",
       "min      -124.549757  \n",
       "25%      -123.127194  \n",
       "50%      -123.107128  \n",
       "75%      -123.065932  \n",
       "max         0.000000  "
      ]
     },
     "execution_count": 8,
     "metadata": {},
     "output_type": "execute_result"
    }
   ],
   "source": [
    "df.describe()"
   ]
  },
  {
   "cell_type": "code",
   "execution_count": 9,
   "metadata": {},
   "outputs": [
    {
     "data": {
      "text/plain": [
       "TYPE              object\n",
       "YEAR               int64\n",
       "MONTH              int64\n",
       "DAY                int64\n",
       "HOUR             float64\n",
       "MINUTE           float64\n",
       "HUNDRED_BLOCK     object\n",
       "NEIGHBOURHOOD     object\n",
       "X                float64\n",
       "Y                float64\n",
       "Latitude         float64\n",
       "Longitude        float64\n",
       "dtype: object"
      ]
     },
     "execution_count": 9,
     "metadata": {},
     "output_type": "execute_result"
    }
   ],
   "source": [
    "df.dtypes"
   ]
  },
  {
   "cell_type": "code",
   "execution_count": 10,
   "metadata": {},
   "outputs": [],
   "source": [
    "df_drop = ['Latitude', 'Longitude','MINUTE', 'X', 'Y']\n",
    "\n"
   ]
  },
  {
   "cell_type": "code",
   "execution_count": 11,
   "metadata": {},
   "outputs": [
    {
     "data": {
      "text/plain": [
       "Index(['TYPE', 'YEAR', 'MONTH', 'DAY', 'HOUR', 'MINUTE', 'HUNDRED_BLOCK',\n",
       "       'NEIGHBOURHOOD', 'X', 'Y', 'Latitude', 'Longitude'],\n",
       "      dtype='object')"
      ]
     },
     "execution_count": 11,
     "metadata": {},
     "output_type": "execute_result"
    }
   ],
   "source": [
    "df.columns"
   ]
  },
  {
   "cell_type": "code",
   "execution_count": 12,
   "metadata": {},
   "outputs": [],
   "source": [
    "df = df.drop(columns=df_drop)"
   ]
  },
  {
   "cell_type": "code",
   "execution_count": 13,
   "metadata": {},
   "outputs": [
    {
     "data": {
      "text/html": [
       "<div>\n",
       "<style scoped>\n",
       "    .dataframe tbody tr th:only-of-type {\n",
       "        vertical-align: middle;\n",
       "    }\n",
       "\n",
       "    .dataframe tbody tr th {\n",
       "        vertical-align: top;\n",
       "    }\n",
       "\n",
       "    .dataframe thead th {\n",
       "        text-align: right;\n",
       "    }\n",
       "</style>\n",
       "<table border=\"1\" class=\"dataframe\">\n",
       "  <thead>\n",
       "    <tr style=\"text-align: right;\">\n",
       "      <th></th>\n",
       "      <th>TYPE</th>\n",
       "      <th>YEAR</th>\n",
       "      <th>MONTH</th>\n",
       "      <th>DAY</th>\n",
       "      <th>HOUR</th>\n",
       "      <th>HUNDRED_BLOCK</th>\n",
       "      <th>NEIGHBOURHOOD</th>\n",
       "    </tr>\n",
       "  </thead>\n",
       "  <tbody>\n",
       "    <tr>\n",
       "      <th>0</th>\n",
       "      <td>Other Theft</td>\n",
       "      <td>2003</td>\n",
       "      <td>5</td>\n",
       "      <td>12</td>\n",
       "      <td>16.0</td>\n",
       "      <td>9XX TERMINAL AVE</td>\n",
       "      <td>Strathcona</td>\n",
       "    </tr>\n",
       "    <tr>\n",
       "      <th>1</th>\n",
       "      <td>Other Theft</td>\n",
       "      <td>2003</td>\n",
       "      <td>5</td>\n",
       "      <td>7</td>\n",
       "      <td>15.0</td>\n",
       "      <td>9XX TERMINAL AVE</td>\n",
       "      <td>Strathcona</td>\n",
       "    </tr>\n",
       "    <tr>\n",
       "      <th>2</th>\n",
       "      <td>Other Theft</td>\n",
       "      <td>2003</td>\n",
       "      <td>4</td>\n",
       "      <td>23</td>\n",
       "      <td>16.0</td>\n",
       "      <td>9XX TERMINAL AVE</td>\n",
       "      <td>Strathcona</td>\n",
       "    </tr>\n",
       "    <tr>\n",
       "      <th>3</th>\n",
       "      <td>Other Theft</td>\n",
       "      <td>2003</td>\n",
       "      <td>4</td>\n",
       "      <td>20</td>\n",
       "      <td>11.0</td>\n",
       "      <td>9XX TERMINAL AVE</td>\n",
       "      <td>Strathcona</td>\n",
       "    </tr>\n",
       "    <tr>\n",
       "      <th>4</th>\n",
       "      <td>Other Theft</td>\n",
       "      <td>2003</td>\n",
       "      <td>4</td>\n",
       "      <td>12</td>\n",
       "      <td>17.0</td>\n",
       "      <td>9XX TERMINAL AVE</td>\n",
       "      <td>Strathcona</td>\n",
       "    </tr>\n",
       "  </tbody>\n",
       "</table>\n",
       "</div>"
      ],
      "text/plain": [
       "          TYPE  YEAR  MONTH  DAY  HOUR     HUNDRED_BLOCK NEIGHBOURHOOD\n",
       "0  Other Theft  2003      5   12  16.0  9XX TERMINAL AVE    Strathcona\n",
       "1  Other Theft  2003      5    7  15.0  9XX TERMINAL AVE    Strathcona\n",
       "2  Other Theft  2003      4   23  16.0  9XX TERMINAL AVE    Strathcona\n",
       "3  Other Theft  2003      4   20  11.0  9XX TERMINAL AVE    Strathcona\n",
       "4  Other Theft  2003      4   12  17.0  9XX TERMINAL AVE    Strathcona"
      ]
     },
     "execution_count": 13,
     "metadata": {},
     "output_type": "execute_result"
    }
   ],
   "source": [
    "df.head()"
   ]
  },
  {
   "cell_type": "code",
   "execution_count": 14,
   "metadata": {},
   "outputs": [
    {
     "data": {
      "text/plain": [
       "TYPE                 0\n",
       "YEAR                 0\n",
       "MONTH                0\n",
       "DAY                  0\n",
       "HOUR             54362\n",
       "HUNDRED_BLOCK       13\n",
       "NEIGHBOURHOOD    56624\n",
       "dtype: int64"
      ]
     },
     "execution_count": 14,
     "metadata": {},
     "output_type": "execute_result"
    }
   ],
   "source": [
    "df.isnull().sum()"
   ]
  },
  {
   "cell_type": "code",
   "execution_count": 15,
   "metadata": {},
   "outputs": [
    {
     "data": {
      "text/html": [
       "<div>\n",
       "<style scoped>\n",
       "    .dataframe tbody tr th:only-of-type {\n",
       "        vertical-align: middle;\n",
       "    }\n",
       "\n",
       "    .dataframe tbody tr th {\n",
       "        vertical-align: top;\n",
       "    }\n",
       "\n",
       "    .dataframe thead th {\n",
       "        text-align: right;\n",
       "    }\n",
       "</style>\n",
       "<table border=\"1\" class=\"dataframe\">\n",
       "  <thead>\n",
       "    <tr style=\"text-align: right;\">\n",
       "      <th></th>\n",
       "      <th>TYPE</th>\n",
       "      <th>YEAR</th>\n",
       "      <th>MONTH</th>\n",
       "      <th>DAY</th>\n",
       "      <th>HOUR</th>\n",
       "      <th>HUNDRED_BLOCK</th>\n",
       "      <th>NEIGHBOURHOOD</th>\n",
       "    </tr>\n",
       "  </thead>\n",
       "  <tbody>\n",
       "    <tr>\n",
       "      <th>530646</th>\n",
       "      <td>Mischief</td>\n",
       "      <td>2017</td>\n",
       "      <td>1</td>\n",
       "      <td>18</td>\n",
       "      <td>14.0</td>\n",
       "      <td>14XX E HASTINGS ST</td>\n",
       "      <td>Grandview-Woodland</td>\n",
       "    </tr>\n",
       "    <tr>\n",
       "      <th>530647</th>\n",
       "      <td>Break and Enter Residential/Other</td>\n",
       "      <td>2017</td>\n",
       "      <td>3</td>\n",
       "      <td>3</td>\n",
       "      <td>9.0</td>\n",
       "      <td>31XX ADANAC ST</td>\n",
       "      <td>Hastings-Sunrise</td>\n",
       "    </tr>\n",
       "    <tr>\n",
       "      <th>530648</th>\n",
       "      <td>Mischief</td>\n",
       "      <td>2017</td>\n",
       "      <td>5</td>\n",
       "      <td>29</td>\n",
       "      <td>22.0</td>\n",
       "      <td>14XX E 7TH AVE</td>\n",
       "      <td>Grandview-Woodland</td>\n",
       "    </tr>\n",
       "    <tr>\n",
       "      <th>530650</th>\n",
       "      <td>Theft from Vehicle</td>\n",
       "      <td>2017</td>\n",
       "      <td>6</td>\n",
       "      <td>5</td>\n",
       "      <td>17.0</td>\n",
       "      <td>8XX HAMILTON ST</td>\n",
       "      <td>Central Business District</td>\n",
       "    </tr>\n",
       "    <tr>\n",
       "      <th>530651</th>\n",
       "      <td>Vehicle Collision or Pedestrian Struck (with I...</td>\n",
       "      <td>2017</td>\n",
       "      <td>6</td>\n",
       "      <td>6</td>\n",
       "      <td>17.0</td>\n",
       "      <td>13XX BLOCK PARK DR</td>\n",
       "      <td>Marpole</td>\n",
       "    </tr>\n",
       "  </tbody>\n",
       "</table>\n",
       "</div>"
      ],
      "text/plain": [
       "                                                     TYPE  YEAR  MONTH  DAY  \\\n",
       "530646                                           Mischief  2017      1   18   \n",
       "530647                  Break and Enter Residential/Other  2017      3    3   \n",
       "530648                                           Mischief  2017      5   29   \n",
       "530650                                 Theft from Vehicle  2017      6    5   \n",
       "530651  Vehicle Collision or Pedestrian Struck (with I...  2017      6    6   \n",
       "\n",
       "        HOUR       HUNDRED_BLOCK              NEIGHBOURHOOD  \n",
       "530646  14.0  14XX E HASTINGS ST         Grandview-Woodland  \n",
       "530647   9.0      31XX ADANAC ST           Hastings-Sunrise  \n",
       "530648  22.0      14XX E 7TH AVE         Grandview-Woodland  \n",
       "530650  17.0     8XX HAMILTON ST  Central Business District  \n",
       "530651  17.0  13XX BLOCK PARK DR                    Marpole  "
      ]
     },
     "execution_count": 15,
     "metadata": {},
     "output_type": "execute_result"
    }
   ],
   "source": [
    "df = df.dropna() #remove all missing values from dataset\n",
    "df.tail()\n"
   ]
  },
  {
   "cell_type": "code",
   "execution_count": 16,
   "metadata": {},
   "outputs": [
    {
     "data": {
      "text/plain": [
       "TYPE             0\n",
       "YEAR             0\n",
       "MONTH            0\n",
       "DAY              0\n",
       "HOUR             0\n",
       "HUNDRED_BLOCK    0\n",
       "NEIGHBOURHOOD    0\n",
       "dtype: int64"
      ]
     },
     "execution_count": 16,
     "metadata": {},
     "output_type": "execute_result"
    }
   ],
   "source": [
    "df.isnull().sum() #check if there are still issing values in dataset that we need to clean"
   ]
  },
  {
   "cell_type": "code",
   "execution_count": 17,
   "metadata": {},
   "outputs": [
    {
     "name": "stdout",
     "output_type": "stream",
     "text": [
      "<class 'pandas.core.frame.DataFrame'>\n",
      "Int64Index: 474015 entries, 0 to 530651\n",
      "Data columns (total 7 columns):\n",
      " #   Column         Non-Null Count   Dtype  \n",
      "---  ------         --------------   -----  \n",
      " 0   TYPE           474015 non-null  object \n",
      " 1   YEAR           474015 non-null  int64  \n",
      " 2   MONTH          474015 non-null  int64  \n",
      " 3   DAY            474015 non-null  int64  \n",
      " 4   HOUR           474015 non-null  float64\n",
      " 5   HUNDRED_BLOCK  474015 non-null  object \n",
      " 6   NEIGHBOURHOOD  474015 non-null  object \n",
      "dtypes: float64(1), int64(3), object(3)\n",
      "memory usage: 28.9+ MB\n"
     ]
    }
   ],
   "source": [
    "df.info()"
   ]
  },
  {
   "cell_type": "markdown",
   "metadata": {},
   "source": [
    "VISUALIZATIONS"
   ]
  },
  {
   "cell_type": "code",
   "execution_count": 18,
   "metadata": {},
   "outputs": [
    {
     "data": {
      "text/html": [
       "<div>\n",
       "<style scoped>\n",
       "    .dataframe tbody tr th:only-of-type {\n",
       "        vertical-align: middle;\n",
       "    }\n",
       "\n",
       "    .dataframe tbody tr th {\n",
       "        vertical-align: top;\n",
       "    }\n",
       "\n",
       "    .dataframe thead th {\n",
       "        text-align: right;\n",
       "    }\n",
       "</style>\n",
       "<table border=\"1\" class=\"dataframe\">\n",
       "  <thead>\n",
       "    <tr style=\"text-align: right;\">\n",
       "      <th></th>\n",
       "      <th>YEAR</th>\n",
       "      <th>MONTH</th>\n",
       "      <th>DAY</th>\n",
       "      <th>HOUR</th>\n",
       "    </tr>\n",
       "  </thead>\n",
       "  <tbody>\n",
       "    <tr>\n",
       "      <th>YEAR</th>\n",
       "      <td>1.000000</td>\n",
       "      <td>-0.035785</td>\n",
       "      <td>-0.006853</td>\n",
       "      <td>-0.011145</td>\n",
       "    </tr>\n",
       "    <tr>\n",
       "      <th>MONTH</th>\n",
       "      <td>-0.035785</td>\n",
       "      <td>1.000000</td>\n",
       "      <td>0.006609</td>\n",
       "      <td>0.000012</td>\n",
       "    </tr>\n",
       "    <tr>\n",
       "      <th>DAY</th>\n",
       "      <td>-0.006853</td>\n",
       "      <td>0.006609</td>\n",
       "      <td>1.000000</td>\n",
       "      <td>0.004445</td>\n",
       "    </tr>\n",
       "    <tr>\n",
       "      <th>HOUR</th>\n",
       "      <td>-0.011145</td>\n",
       "      <td>0.000012</td>\n",
       "      <td>0.004445</td>\n",
       "      <td>1.000000</td>\n",
       "    </tr>\n",
       "  </tbody>\n",
       "</table>\n",
       "</div>"
      ],
      "text/plain": [
       "           YEAR     MONTH       DAY      HOUR\n",
       "YEAR   1.000000 -0.035785 -0.006853 -0.011145\n",
       "MONTH -0.035785  1.000000  0.006609  0.000012\n",
       "DAY   -0.006853  0.006609  1.000000  0.004445\n",
       "HOUR  -0.011145  0.000012  0.004445  1.000000"
      ]
     },
     "execution_count": 18,
     "metadata": {},
     "output_type": "execute_result"
    }
   ],
   "source": [
    "df.corr()"
   ]
  },
  {
   "cell_type": "code",
   "execution_count": 28,
   "metadata": {},
   "outputs": [
    {
     "data": {
      "image/png": "[encoded data removed]",
      "text/plain": [
       "<Figure size 720x360 with 2 Axes>"
      ]
     },
     "metadata": {
      "needs_background": "light"
     },
     "output_type": "display_data"
    }
   ],
   "source": [
    "corr_martix =  df.corr()\n",
    "fig, ax = plt.subplots(figsize=(10,5))\n",
    "ax = sns.heatmap(corr_martix, annot=True, linewidths=0.4, fmt=\".2f\", cmap=\"YlGnBu\");\n",
    "bottom, top = ax.get_ylim()\n",
    "ax.set_ylim(bottom + 0.5, top -0.5);"
   ]
  },
  {
   "cell_type": "code",
   "execution_count": null,
   "metadata": {},
   "outputs": [],
   "source": []
  }
 ],
 "metadata": {
  "kernelspec": {
   "display_name": "Python 3.9.12 ('base')",
   "language": "python",
   "name": "python3"
  },
  "language_info": {
   "codemirror_mode": {
    "name": "ipython",
    "version": 3
   },
   "file_extension": ".py",
   "mimetype": "text/x-python",
   "name": "python",
   "nbconvert_exporter": "python",
   "pygments_lexer": "ipython3",
   "version": "3.9.12"
  },
  "orig_nbformat": 4,
  "vscode": {
   "interpreter": {
    "hash": "a8fa9087f5a51bae228133fc9c819300269d33193c21821c6b5e3a1628ba6708"
   }
  }
 },
 "nbformat": 4,
 "nbformat_minor": 2
}
